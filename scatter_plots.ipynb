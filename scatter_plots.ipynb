{
 "cells": [
  {
   "cell_type": "markdown",
   "id": "b0191d98-37ba-45f9-80d5-37688aafc2c4",
   "metadata": {},
   "source": [
    "# Scatter Plots"
   ]
  },
  {
   "cell_type": "markdown",
   "id": "8d50488f-a23a-4323-a8bf-8379553b941b",
   "metadata": {},
   "source": [
    "## Basic scatter plot"
   ]
  },
  {
   "cell_type": "code",
   "execution_count": 1,
   "id": "16c669a6-fcdd-424a-82bf-61ebfd8fcdbf",
   "metadata": {},
   "outputs": [],
   "source": [
    "import numpy as np\n",
    "import plotly.offline as pyo\n",
    "import plotly.graph_objs as go"
   ]
  },
  {
   "cell_type": "code",
   "execution_count": 2,
   "id": "f91fc99e-2884-41a5-8db4-829a3b2926a6",
   "metadata": {},
   "outputs": [],
   "source": [
    "#Generating data\n",
    "np.random.seed(69)\n",
    "x_random = np.random.randint(1,101,100)\n",
    "y_random = np.random.randint(1,101,100)"
   ]
  },
  {
   "cell_type": "code",
   "execution_count": 3,
   "id": "f722a5a2-d3f9-40fc-8e84-f89f2f1b04df",
   "metadata": {},
   "outputs": [
    {
     "data": {
      "text/plain": [
       "'scatter_plot.html'"
      ]
     },
     "execution_count": 3,
     "metadata": {},
     "output_type": "execute_result"
    }
   ],
   "source": [
    "# General plotting syntax\n",
    "\n",
    "#creating the data object to be passed to plotting object as a list of plot.\n",
    "\n",
    "data = [go.Scatter(x=x_random,y=y_random, mode='markers')]\n",
    "\n",
    "# Plotting the data using the plot object\n",
    "pyo.plot(data, filename='scatter_plot.html')"
   ]
  },
  {
   "cell_type": "markdown",
   "id": "c9e1e307-8226-4a48-8f68-540ef3dbb948",
   "metadata": {},
   "source": [
    "## Adding lables and additional functionality"
   ]
  },
  {
   "cell_type": "code",
   "execution_count": 5,
   "id": "80185de0-5464-4299-8208-6062c3bbfbf9",
   "metadata": {},
   "outputs": [
    {
     "data": {
      "text/plain": [
       "'scatter_plot_v1.html'"
      ]
     },
     "execution_count": 5,
     "metadata": {},
     "output_type": "execute_result"
    }
   ],
   "source": [
    "# The data variable refers to the actual data to be plotted.\n",
    "# Another variable 'layout' can be created to pass label and other functionalities.\n",
    "\n",
    "data = [go.Scatter(x=x_random,y=y_random, mode='markers')]  #needs to be a list\n",
    "\n",
    "layout = go.Layout(title='My Plot',\n",
    "                   xaxis={'title':'my x axis'},     # can be passed like a dict with {}\n",
    "                   yaxis=dict(title='my y axis'),   # can be passed with dict() function\n",
    "                   hovermode='closest')   \n",
    "\n",
    "# when using both data and layout, they need to be packaged in a figure object:\n",
    "\n",
    "fig = go.Figure(data=data, layout=layout)\n",
    "\n",
    "# Plotting the fig using the plot object\n",
    "pyo.plot(fig, filename='scatter_plot_v1.html')"
   ]
  },
  {
   "cell_type": "markdown",
   "id": "82b2db50-c96a-4932-b0ed-d09dd11550f2",
   "metadata": {},
   "source": [
    "## Modifying markers"
   ]
  },
  {
   "cell_type": "code",
   "execution_count": 6,
   "id": "66a0c2c2-ef94-45d3-a7a6-0f1d48186195",
   "metadata": {},
   "outputs": [
    {
     "data": {
      "text/plain": [
       "'scatter_plot_v2.html'"
      ]
     },
     "execution_count": 6,
     "metadata": {},
     "output_type": "execute_result"
    }
   ],
   "source": [
    "# Marker attributes can be passed into the data variable's plot:\n",
    "data = [go.Scatter(x=x_random,\n",
    "                   y=y_random,\n",
    "                   mode='markers',\n",
    "                   marker=dict(\n",
    "                               size=12,\n",
    "                               color='rgb(200,51,105)',\n",
    "                               symbol='pentagon',\n",
    "                               line={'width':2}\n",
    "                   ))]\n",
    "layout = go.Layout(title='my plot',\n",
    "                   xaxis=dict(title='my x axis'),\n",
    "                   yaxis=dict(title='my y axis'))\n",
    "\n",
    "fig = go.Figure(data=data, layout=layout)\n",
    "\n",
    "pyo.plot(fig, filename='scatter_plot_v2.html')"
   ]
  },
  {
   "cell_type": "code",
   "execution_count": null,
   "id": "770fe864-505d-4a47-831f-6927759237a6",
   "metadata": {},
   "outputs": [],
   "source": []
  }
 ],
 "metadata": {
  "kernelspec": {
   "display_name": "Python 3 (ipykernel)",
   "language": "python",
   "name": "python3"
  },
  "language_info": {
   "codemirror_mode": {
    "name": "ipython",
    "version": 3
   },
   "file_extension": ".py",
   "mimetype": "text/x-python",
   "name": "python",
   "nbconvert_exporter": "python",
   "pygments_lexer": "ipython3",
   "version": "3.9.16"
  }
 },
 "nbformat": 4,
 "nbformat_minor": 5
}
