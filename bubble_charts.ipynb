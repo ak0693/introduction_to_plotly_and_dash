{
 "cells": [
  {
   "cell_type": "markdown",
   "id": "5441291b-f5e2-4f9e-8b1f-5e91a27dc110",
   "metadata": {},
   "source": [
    "# Bubble Charts"
   ]
  },
  {
   "cell_type": "code",
   "execution_count": 1,
   "id": "ed0da1e5-b430-4c57-a1e1-431843b3ff9c",
   "metadata": {},
   "outputs": [],
   "source": [
    "import pandas as pd\n",
    "import plotly.offline as pyo\n",
    "import plotly.graph_objs as go"
   ]
  },
  {
   "cell_type": "code",
   "execution_count": 11,
   "id": "5daa20b5-4fa5-4276-a29a-075e1656775c",
   "metadata": {},
   "outputs": [],
   "source": [
    "df = pd.read_csv('Data/mpg.csv',na_values={'horsepower':'?'})"
   ]
  },
  {
   "cell_type": "code",
   "execution_count": 12,
   "id": "7c5632ea-b0e5-4046-a0e7-8fbce3e09ee0",
   "metadata": {},
   "outputs": [
    {
     "data": {
      "text/plain": [
       "'plots/mpg_v1.html'"
      ]
     },
     "execution_count": 12,
     "metadata": {},
     "output_type": "execute_result"
    }
   ],
   "source": [
    "# Plotting a bubble chart\n",
    "data = [go.Scatter(x=df['horsepower'],\n",
    "                   y=df['mpg'],\n",
    "                   mode='markers',\n",
    "                   text=df['name'],      #what to show when hovering\n",
    "                   marker=dict(size=2*df['cylinders']))]\n",
    "        \n",
    "        \n",
    "layout = go.Layout(title='Cars Stats')\n",
    "fig=go.Figure(data=data, layout=layout)\n",
    "\n",
    "pyo.plot(fig, filename='plots/mpg_v1.html')"
   ]
  },
  {
   "cell_type": "code",
   "execution_count": 14,
   "id": "68213b3f-4c42-4a3e-a6f9-c31129996c15",
   "metadata": {},
   "outputs": [
    {
     "data": {
      "text/plain": [
       "'plots/mpg_v2.html'"
      ]
     },
     "execution_count": 14,
     "metadata": {},
     "output_type": "execute_result"
    }
   ],
   "source": [
    "# Plotting a bubble chart\n",
    "data = [go.Scatter(x=df['horsepower'],\n",
    "                   y=df['mpg'],\n",
    "                   mode='markers',\n",
    "                   text=df['name'],      #what to show when hovering\n",
    "                   marker=dict(size=df['weight']/200))]\n",
    "        \n",
    "        \n",
    "layout = go.Layout(title='Cars Stats')\n",
    "fig=go.Figure(data=data, layout=layout)\n",
    "\n",
    "pyo.plot(fig, filename='plots/mpg_v2.html')"
   ]
  },
  {
   "cell_type": "markdown",
   "id": "d1d80801-c2ff-40ec-9097-dfa42df1dfbf",
   "metadata": {},
   "source": [
    "## Adding color attribute to display 4 features"
   ]
  },
  {
   "cell_type": "code",
   "execution_count": 15,
   "id": "82186d89-fb8d-470b-b604-a25c9c68b652",
   "metadata": {},
   "outputs": [
    {
     "data": {
      "text/plain": [
       "'plots/mpg_v3.html'"
      ]
     },
     "execution_count": 15,
     "metadata": {},
     "output_type": "execute_result"
    }
   ],
   "source": [
    "# Plotting a bubble chart\n",
    "data = [go.Scatter(x=df['horsepower'],\n",
    "                   y=df['mpg'],\n",
    "                   mode='markers',\n",
    "                   text=df['name'],      #what to show when hovering\n",
    "                   marker=dict(size=2*df['cylinders'],\n",
    "                               color=df['weight']))]\n",
    "        \n",
    "        \n",
    "layout = go.Layout(title='Cars Stats')\n",
    "fig=go.Figure(data=data, layout=layout)\n",
    "\n",
    "pyo.plot(fig, filename='plots/mpg_v3.html')"
   ]
  },
  {
   "cell_type": "code",
   "execution_count": 16,
   "id": "7e74a6f7-e6c5-4fa8-9dec-f7767ec9fb3d",
   "metadata": {},
   "outputs": [
    {
     "data": {
      "text/plain": [
       "'plots/mpg_v3.html'"
      ]
     },
     "execution_count": 16,
     "metadata": {},
     "output_type": "execute_result"
    }
   ],
   "source": [
    "# adding a color scale\n",
    "# Plotting a bubble chart\n",
    "data = [go.Scatter(x=df['horsepower'],\n",
    "                   y=df['mpg'],\n",
    "                   mode='markers',\n",
    "                   text=df['name'],      #what to show when hovering\n",
    "                   marker=dict(size=2*df['cylinders'],\n",
    "                               color=df['weight'],\n",
    "                               showscale=True))]\n",
    "        \n",
    "        \n",
    "layout = go.Layout(title='Cars Stats')\n",
    "fig=go.Figure(data=data, layout=layout)\n",
    "\n",
    "pyo.plot(fig, filename='plots/mpg_v3.html')"
   ]
  },
  {
   "cell_type": "code",
   "execution_count": null,
   "id": "c3af23eb-82a4-4a26-9bf8-8b79dda485a0",
   "metadata": {},
   "outputs": [],
   "source": []
  }
 ],
 "metadata": {
  "kernelspec": {
   "display_name": "Python 3 (ipykernel)",
   "language": "python",
   "name": "python3"
  },
  "language_info": {
   "codemirror_mode": {
    "name": "ipython",
    "version": 3
   },
   "file_extension": ".py",
   "mimetype": "text/x-python",
   "name": "python",
   "nbconvert_exporter": "python",
   "pygments_lexer": "ipython3",
   "version": "3.9.16"
  }
 },
 "nbformat": 4,
 "nbformat_minor": 5
}
