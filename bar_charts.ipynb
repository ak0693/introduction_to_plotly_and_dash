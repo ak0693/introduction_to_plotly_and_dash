{
 "cells": [
  {
   "cell_type": "markdown",
   "id": "5e61288d-b719-4f78-8688-f737cb4bd6f4",
   "metadata": {},
   "source": [
    "# Bar Charts"
   ]
  },
  {
   "cell_type": "code",
   "execution_count": 1,
   "id": "1a779a25-25c8-4cae-8607-5499551133fa",
   "metadata": {},
   "outputs": [],
   "source": [
    "import pandas as pd\n",
    "import plotly.offline as pyo\n",
    "import plotly.graph_objs as go"
   ]
  },
  {
   "cell_type": "code",
   "execution_count": 2,
   "id": "766defa1-16c6-487f-82e2-355caa3f065e",
   "metadata": {},
   "outputs": [],
   "source": [
    "df = pd.read_csv('Data/2018WinterOlympics.csv')"
   ]
  },
  {
   "cell_type": "code",
   "execution_count": 4,
   "id": "aecff94c-34b1-4ce7-b2b0-c2d87bac24b7",
   "metadata": {},
   "outputs": [
    {
     "data": {
      "text/html": [
       "<div>\n",
       "<style scoped>\n",
       "    .dataframe tbody tr th:only-of-type {\n",
       "        vertical-align: middle;\n",
       "    }\n",
       "\n",
       "    .dataframe tbody tr th {\n",
       "        vertical-align: top;\n",
       "    }\n",
       "\n",
       "    .dataframe thead th {\n",
       "        text-align: right;\n",
       "    }\n",
       "</style>\n",
       "<table border=\"1\" class=\"dataframe\">\n",
       "  <thead>\n",
       "    <tr style=\"text-align: right;\">\n",
       "      <th></th>\n",
       "      <th>Rank</th>\n",
       "      <th>NOC</th>\n",
       "      <th>Gold</th>\n",
       "      <th>Silver</th>\n",
       "      <th>Bronze</th>\n",
       "      <th>Total</th>\n",
       "    </tr>\n",
       "  </thead>\n",
       "  <tbody>\n",
       "    <tr>\n",
       "      <th>0</th>\n",
       "      <td>1</td>\n",
       "      <td>Norway</td>\n",
       "      <td>14</td>\n",
       "      <td>14</td>\n",
       "      <td>11</td>\n",
       "      <td>39</td>\n",
       "    </tr>\n",
       "    <tr>\n",
       "      <th>1</th>\n",
       "      <td>2</td>\n",
       "      <td>Germany</td>\n",
       "      <td>14</td>\n",
       "      <td>10</td>\n",
       "      <td>7</td>\n",
       "      <td>31</td>\n",
       "    </tr>\n",
       "    <tr>\n",
       "      <th>2</th>\n",
       "      <td>3</td>\n",
       "      <td>Canada</td>\n",
       "      <td>11</td>\n",
       "      <td>8</td>\n",
       "      <td>10</td>\n",
       "      <td>29</td>\n",
       "    </tr>\n",
       "    <tr>\n",
       "      <th>3</th>\n",
       "      <td>4</td>\n",
       "      <td>United States</td>\n",
       "      <td>9</td>\n",
       "      <td>8</td>\n",
       "      <td>6</td>\n",
       "      <td>23</td>\n",
       "    </tr>\n",
       "    <tr>\n",
       "      <th>4</th>\n",
       "      <td>5</td>\n",
       "      <td>Netherlands</td>\n",
       "      <td>8</td>\n",
       "      <td>6</td>\n",
       "      <td>6</td>\n",
       "      <td>20</td>\n",
       "    </tr>\n",
       "  </tbody>\n",
       "</table>\n",
       "</div>"
      ],
      "text/plain": [
       "   Rank            NOC  Gold  Silver  Bronze  Total\n",
       "0     1         Norway    14      14      11     39\n",
       "1     2        Germany    14      10       7     31\n",
       "2     3         Canada    11       8      10     29\n",
       "3     4  United States     9       8       6     23\n",
       "4     5    Netherlands     8       6       6     20"
      ]
     },
     "execution_count": 4,
     "metadata": {},
     "output_type": "execute_result"
    }
   ],
   "source": [
    "df.head()"
   ]
  },
  {
   "cell_type": "markdown",
   "id": "7129c798-d7a0-4685-ab03-3ee4ac3f7151",
   "metadata": {},
   "source": [
    "## Bar Plot"
   ]
  },
  {
   "cell_type": "code",
   "execution_count": 5,
   "id": "856283a3-3835-47f7-8af1-ffecb589e66b",
   "metadata": {},
   "outputs": [
    {
     "data": {
      "text/plain": [
       "'plots/medals.html'"
      ]
     },
     "execution_count": 5,
     "metadata": {},
     "output_type": "execute_result"
    }
   ],
   "source": [
    "data = [go.Bar(x=df['NOC'],y=df['Total'])]\n",
    "layout = go.Layout(title='Medals by countries',\n",
    "                   xaxis=dict(title='Country'),\n",
    "                   yaxis=dict(title='Total Medals'))\n",
    "\n",
    "fig = go.Figure(data=data, layout=layout)\n",
    "pyo.plot(fig, filename='plots/medals.html')"
   ]
  },
  {
   "cell_type": "markdown",
   "id": "05c06460-b2d6-41a8-a29e-347dbe1f1f68",
   "metadata": {},
   "source": [
    "## Stacked Bar Chart"
   ]
  },
  {
   "cell_type": "code",
   "execution_count": 8,
   "id": "14f24e24-8d21-4f21-8e02-6fca3ba298d2",
   "metadata": {},
   "outputs": [
    {
     "data": {
      "text/plain": [
       "'plots/medals_types.html'"
      ]
     },
     "execution_count": 8,
     "metadata": {},
     "output_type": "execute_result"
    }
   ],
   "source": [
    "# Need to create traces per category\n",
    "\n",
    "trace1 = go.Bar(x=df['NOC'],y=df['Gold'], name='Gold', marker={'color':'#ebae34'})\n",
    "trace2 = go.Bar(x=df['NOC'],y=df['Silver'], name='Silver', marker={'color':'#dae0de'})\n",
    "trace3 = go.Bar(x=df['NOC'],y=df['Bronze'], name='Bronze', marker={'color':'#b3a894'})\n",
    "\n",
    "data = [trace1,trace2,trace3]\n",
    "layout = go.Layout(title='Types of medals by countries',\n",
    "                   xaxis=dict(title='Country'),\n",
    "                   yaxis=dict(title='Total Medals'),\n",
    "                   barmode='stack')    #need to specify barmode otherwise nested bar plot will be drawn\n",
    "\n",
    "fig = go.Figure(data=data, layout=layout)\n",
    "\n",
    "pyo.plot(fig, filename='plots/medals_types.html')"
   ]
  },
  {
   "cell_type": "markdown",
   "id": "c3047fb8-1823-4404-8034-22a96d5d72e4",
   "metadata": {},
   "source": [
    "## Exercise"
   ]
  },
  {
   "cell_type": "code",
   "execution_count": 9,
   "id": "8745b3c7-a91b-49f6-a95a-13e5dbe76f41",
   "metadata": {},
   "outputs": [
    {
     "data": {
      "text/html": [
       "<div>\n",
       "<style scoped>\n",
       "    .dataframe tbody tr th:only-of-type {\n",
       "        vertical-align: middle;\n",
       "    }\n",
       "\n",
       "    .dataframe tbody tr th {\n",
       "        vertical-align: top;\n",
       "    }\n",
       "\n",
       "    .dataframe thead th {\n",
       "        text-align: right;\n",
       "    }\n",
       "</style>\n",
       "<table border=\"1\" class=\"dataframe\">\n",
       "  <thead>\n",
       "    <tr style=\"text-align: right;\">\n",
       "      <th></th>\n",
       "      <th>Unnamed: 0</th>\n",
       "      <th>Strongly Agree</th>\n",
       "      <th>Somewhat Agree</th>\n",
       "      <th>Neutral</th>\n",
       "      <th>Somewhat Disagree</th>\n",
       "      <th>Strongly Disagree</th>\n",
       "    </tr>\n",
       "  </thead>\n",
       "  <tbody>\n",
       "    <tr>\n",
       "      <th>0</th>\n",
       "      <td>Question 1</td>\n",
       "      <td>0.45</td>\n",
       "      <td>0.25</td>\n",
       "      <td>0.10</td>\n",
       "      <td>0.12</td>\n",
       "      <td>0.08</td>\n",
       "    </tr>\n",
       "    <tr>\n",
       "      <th>1</th>\n",
       "      <td>Question 2</td>\n",
       "      <td>0.12</td>\n",
       "      <td>0.07</td>\n",
       "      <td>0.48</td>\n",
       "      <td>0.18</td>\n",
       "      <td>0.15</td>\n",
       "    </tr>\n",
       "    <tr>\n",
       "      <th>2</th>\n",
       "      <td>Question 3</td>\n",
       "      <td>0.05</td>\n",
       "      <td>0.22</td>\n",
       "      <td>0.19</td>\n",
       "      <td>0.23</td>\n",
       "      <td>0.31</td>\n",
       "    </tr>\n",
       "  </tbody>\n",
       "</table>\n",
       "</div>"
      ],
      "text/plain": [
       "   Unnamed: 0  Strongly Agree  Somewhat Agree  Neutral  Somewhat Disagree  \\\n",
       "0  Question 1            0.45            0.25     0.10               0.12   \n",
       "1  Question 2            0.12            0.07     0.48               0.18   \n",
       "2  Question 3            0.05            0.22     0.19               0.23   \n",
       "\n",
       "   Strongly Disagree  \n",
       "0               0.08  \n",
       "1               0.15  \n",
       "2               0.31  "
      ]
     },
     "execution_count": 9,
     "metadata": {},
     "output_type": "execute_result"
    }
   ],
   "source": [
    "df = pd.read_csv('Data/mocksurvey.csv')\n",
    "df.head()"
   ]
  },
  {
   "cell_type": "code",
   "execution_count": 12,
   "id": "a615194d-8850-4271-b3f6-fb49d6a65b1b",
   "metadata": {},
   "outputs": [],
   "source": [
    "df.set_index('Unnamed: 0', inplace=True)"
   ]
  },
  {
   "cell_type": "code",
   "execution_count": 16,
   "id": "a18dc403-0e6a-4367-af66-11061d943726",
   "metadata": {},
   "outputs": [
    {
     "data": {
      "text/plain": [
       "'plots/response_exercise.html'"
      ]
     },
     "execution_count": 16,
     "metadata": {},
     "output_type": "execute_result"
    }
   ],
   "source": [
    "data = [go.Bar(x=df.index, y=df[col], name=col) for col in df.columns]\n",
    "layout = go.Layout(title='Survey Responses',\n",
    "                   xaxis=dict(title='Question'),\n",
    "                   yaxis=dict(title='Response'),\n",
    "                   barmode='stack')\n",
    "\n",
    "fig = go.Figure(data=data, layout=layout)\n",
    "\n",
    "pyo.plot(fig, filename='plots/response_exercise.html')"
   ]
  },
  {
   "cell_type": "code",
   "execution_count": null,
   "id": "d44166b4-0bdb-4c3d-b4d0-17a3a00d52fb",
   "metadata": {},
   "outputs": [],
   "source": []
  }
 ],
 "metadata": {
  "kernelspec": {
   "display_name": "Python 3 (ipykernel)",
   "language": "python",
   "name": "python3"
  },
  "language_info": {
   "codemirror_mode": {
    "name": "ipython",
    "version": 3
   },
   "file_extension": ".py",
   "mimetype": "text/x-python",
   "name": "python",
   "nbconvert_exporter": "python",
   "pygments_lexer": "ipython3",
   "version": "3.9.16"
  }
 },
 "nbformat": 4,
 "nbformat_minor": 5
}
